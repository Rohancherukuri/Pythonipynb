{
  "nbformat": 4,
  "nbformat_minor": 0,
  "metadata": {
    "colab": {
      "name": "PythonAssignmant-4.ipynb",
      "provenance": []
    },
    "kernelspec": {
      "name": "python3",
      "display_name": "Python 3"
    }
  },
  "cells": [
    {
      "cell_type": "code",
      "metadata": {
        "id": "iAlgjZQnEyLP",
        "colab_type": "code",
        "colab": {
          "base_uri": "https://localhost:8080/",
          "height": 88
        },
        "outputId": "6c0e430d-1c31-4b40-91b5-0b4e4930eff5"
      },
      "source": [
        "# 1.1)\n",
        "class Shape:\n",
        "    def __init__(self,a,b,c):\n",
        "        self.a=a\n",
        "        self.b=b\n",
        "        self.c=c\n",
        "class Triangle(Shape):\n",
        "    def area(self):\n",
        "        self.s=(self.a+self.b+self.c)/2\n",
        "        return (self.s*(self.s-self.a)*(self.s-self.b)*(self.s-self.c)) ** 0.5\n",
        "s1=int(input(\"Enter first side: \"))\n",
        "s2=int(input(\"Enter second side: \"))\n",
        "s3=int(input(\"Enter third side: \"))\n",
        "t=Triangle(s1,s2,s3)\n",
        "print(\"The area of triangle is: \",t.area())"
      ],
      "execution_count": 1,
      "outputs": [
        {
          "output_type": "stream",
          "text": [
            "Enter first side: 200\n",
            "Enter second side: 160\n",
            "Enter third side: 220\n",
            "The area of triangle is:  15411.359446849587\n"
          ],
          "name": "stdout"
        }
      ]
    },
    {
      "cell_type": "code",
      "metadata": {
        "id": "mwHSKTTPKScz",
        "colab_type": "code",
        "colab": {}
      },
      "source": [
        "# 1.2)\n",
        "def filter_long_words(l,n):\n",
        "  for i in l:\n",
        "    if len(i)>n:\n",
        "      print(i)"
      ],
      "execution_count": 2,
      "outputs": []
    },
    {
      "cell_type": "code",
      "metadata": {
        "id": "cMxRFKlMK8DZ",
        "colab_type": "code",
        "colab": {
          "base_uri": "https://localhost:8080/",
          "height": 35
        },
        "outputId": "04374d43-8853-496e-c82c-51df8f20c4e5"
      },
      "source": [
        "filter_long_words(['Rohan','Uneendhra','Naveen','Poorna','Likith'],7)"
      ],
      "execution_count": 3,
      "outputs": [
        {
          "output_type": "stream",
          "text": [
            "Uneendhra\n"
          ],
          "name": "stdout"
        }
      ]
    },
    {
      "cell_type": "code",
      "metadata": {
        "id": "tU_0BCcCLS7_",
        "colab_type": "code",
        "colab": {}
      },
      "source": [
        "# 2.1)\n",
        "def length_of_words(l):\n",
        "  n=map(lambda x:len(x),['ab','cde','erty'])\n",
        "  print(list(n))"
      ],
      "execution_count": 4,
      "outputs": []
    },
    {
      "cell_type": "code",
      "metadata": {
        "id": "2B7jFymbPBGh",
        "colab_type": "code",
        "colab": {
          "base_uri": "https://localhost:8080/",
          "height": 35
        },
        "outputId": "017307ac-e518-453e-8e48-e71f71f58731"
      },
      "source": [
        "length_of_words(['ab','cde','erty'])"
      ],
      "execution_count": 5,
      "outputs": [
        {
          "output_type": "stream",
          "text": [
            "[2, 3, 4]\n"
          ],
          "name": "stdout"
        }
      ]
    },
    {
      "cell_type": "code",
      "metadata": {
        "id": "c0d6u72dLyYO",
        "colab_type": "code",
        "colab": {}
      },
      "source": [
        "# 2.2)\n",
        "def is_vowel(s):\n",
        "  if(s=='a' or s=='e' or s=='i' or s=='o' or s=='u' or s=='A' or s=='E' or s=='I' or s=='O' or s=='U'):\n",
        "    return True\n",
        "  else:\n",
        "    return False"
      ],
      "execution_count": 6,
      "outputs": []
    },
    {
      "cell_type": "code",
      "metadata": {
        "id": "NXWTox7UMmLo",
        "colab_type": "code",
        "colab": {
          "base_uri": "https://localhost:8080/",
          "height": 35
        },
        "outputId": "7226ff20-01d4-4135-bc6e-c43edea2de9b"
      },
      "source": [
        "is_vowel('a')"
      ],
      "execution_count": 7,
      "outputs": [
        {
          "output_type": "execute_result",
          "data": {
            "text/plain": [
              "True"
            ]
          },
          "metadata": {
            "tags": []
          },
          "execution_count": 7
        }
      ]
    },
    {
      "cell_type": "code",
      "metadata": {
        "id": "zCyvcwDQMoH9",
        "colab_type": "code",
        "colab": {
          "base_uri": "https://localhost:8080/",
          "height": 35
        },
        "outputId": "45f1c0ca-0f3e-4b46-fc69-7a3c9b26cf63"
      },
      "source": [
        "is_vowel('B')"
      ],
      "execution_count": 8,
      "outputs": [
        {
          "output_type": "execute_result",
          "data": {
            "text/plain": [
              "False"
            ]
          },
          "metadata": {
            "tags": []
          },
          "execution_count": 8
        }
      ]
    }
  ]
}