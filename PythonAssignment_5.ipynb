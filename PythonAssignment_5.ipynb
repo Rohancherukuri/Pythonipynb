{
  "nbformat": 4,
  "nbformat_minor": 0,
  "metadata": {
    "colab": {
      "name": "PythonAssignment-5.ipynb",
      "provenance": []
    },
    "kernelspec": {
      "name": "python3",
      "display_name": "Python 3"
    }
  },
  "cells": [
    {
      "cell_type": "code",
      "metadata": {
        "id": "X5Q8Xue9tAXR",
        "colab_type": "code",
        "colab": {}
      },
      "source": [
        "# 1)\n",
        "def exception(n):\n",
        "  try:\n",
        "    result = n/0;\n",
        "  except Exception as e:\n",
        "    print(\"Error occured! \"+str(e)+\" error.\")"
      ],
      "execution_count": 1,
      "outputs": []
    },
    {
      "cell_type": "code",
      "metadata": {
        "id": "hB_jm-u4tkS2",
        "colab_type": "code",
        "colab": {
          "base_uri": "https://localhost:8080/",
          "height": 35
        },
        "outputId": "4e2d412e-e2ec-4809-eec3-d1d0315734b5"
      },
      "source": [
        "exception(5)"
      ],
      "execution_count": 2,
      "outputs": [
        {
          "output_type": "stream",
          "text": [
            "Error occured! division by zero error.\n"
          ],
          "name": "stdout"
        }
      ]
    },
    {
      "cell_type": "code",
      "metadata": {
        "id": "Cxz1A_Bttqh9",
        "colab_type": "code",
        "colab": {
          "base_uri": "https://localhost:8080/",
          "height": 176
        },
        "outputId": "0fc88dfe-2820-4063-b036-5e359067d535"
      },
      "source": [
        "# 2)\n",
        "subjects = [\"Americans\",\"Indians\"]\n",
        "verbs = [\"play\",\"watch\"]\n",
        "objects = [\"Baseball\",\"Cricket\"]\n",
        "paragraph = [(s+\" \"+v+\" \"+o) for s in subjects for v in verbs  for o in objects]\n",
        "for sentence in paragraph:\n",
        "  print(sentence)\n",
        "  \n",
        "print(sentence)"
      ],
      "execution_count": 3,
      "outputs": [
        {
          "output_type": "stream",
          "text": [
            "Americans play Baseball\n",
            "Americans play Cricket\n",
            "Americans watch Baseball\n",
            "Americans watch Cricket\n",
            "Indians play Baseball\n",
            "Indians play Cricket\n",
            "Indians watch Baseball\n",
            "Indians watch Cricket\n",
            "Indians watch Cricket\n"
          ],
          "name": "stdout"
        }
      ]
    },
    {
      "cell_type": "code",
      "metadata": {
        "id": "Q3Q987oJvrbb",
        "colab_type": "code",
        "colab": {}
      },
      "source": [
        ""
      ],
      "execution_count": 3,
      "outputs": []
    }
  ]
}