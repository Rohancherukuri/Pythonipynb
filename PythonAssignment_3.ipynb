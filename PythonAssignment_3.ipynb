{
  "nbformat": 4,
  "nbformat_minor": 0,
  "metadata": {
    "colab": {
      "name": "PythonAssignment-3.ipynb",
      "provenance": []
    },
    "kernelspec": {
      "name": "python3",
      "display_name": "Python 3"
    }
  },
  "cells": [
    {
      "cell_type": "code",
      "metadata": {
        "id": "IJPymk6q0QV2",
        "colab_type": "code",
        "colab": {}
      },
      "source": [
        "# 1.1)\n",
        "def fact(a,b):\n",
        "  return a*b\n",
        "def myreduce(func,l1):\n",
        "  first = l1[0]\n",
        "  for i in l1[1:]:\n",
        "    first = func(first,i)\n",
        "  return first"
      ],
      "execution_count": 1,
      "outputs": []
    },
    {
      "cell_type": "code",
      "metadata": {
        "id": "1gOoqEa_3YEu",
        "colab_type": "code",
        "colab": {
          "base_uri": "https://localhost:8080/",
          "height": 35
        },
        "outputId": "28e9c42b-24e7-406d-a5cd-31ed614f1dfd"
      },
      "source": [
        "myreduce(fact,[1,2,3,4,5])"
      ],
      "execution_count": 2,
      "outputs": [
        {
          "output_type": "execute_result",
          "data": {
            "text/plain": [
              "120"
            ]
          },
          "metadata": {
            "tags": []
          },
          "execution_count": 2
        }
      ]
    },
    {
      "cell_type": "code",
      "metadata": {
        "id": "MztynRpt3fkv",
        "colab_type": "code",
        "colab": {}
      },
      "source": [
        "# 1.2)\n",
        "def is_even(n):\n",
        "  if n%2==0:\n",
        "    return True\n",
        "  else:\n",
        "    return False\n",
        "def myfilter(func,l2):\n",
        "  return [i for i in l2 if func(i)]"
      ],
      "execution_count": 3,
      "outputs": []
    },
    {
      "cell_type": "code",
      "metadata": {
        "id": "n0ocegEY4XkU",
        "colab_type": "code",
        "colab": {
          "base_uri": "https://localhost:8080/",
          "height": 35
        },
        "outputId": "4a0131d3-11e5-4eb4-cbe2-6d472f6de28d"
      },
      "source": [
        "myfilter(is_even,[1,2,3,4,5,6,7,8,9,10])"
      ],
      "execution_count": 4,
      "outputs": [
        {
          "output_type": "execute_result",
          "data": {
            "text/plain": [
              "[2, 4, 6, 8, 10]"
            ]
          },
          "metadata": {
            "tags": []
          },
          "execution_count": 4
        }
      ]
    },
    {
      "cell_type": "code",
      "metadata": {
        "id": "JJu3v6GC4jp_",
        "colab_type": "code",
        "colab": {
          "base_uri": "https://localhost:8080/",
          "height": 35
        },
        "outputId": "c0ce31ba-2370-48d1-c27e-b0db366be5e7"
      },
      "source": [
        "# 2)\n",
        "# 1.\n",
        "char='xyz'\n",
        "mylist= [i*num for i in char  for num in range(1,5)]\n",
        "mylist"
      ],
      "execution_count": 5,
      "outputs": [
        {
          "output_type": "execute_result",
          "data": {
            "text/plain": [
              "['x', 'xx', 'xxx', 'xxxx', 'y', 'yy', 'yyy', 'yyyy', 'z', 'zz', 'zzz', 'zzzz']"
            ]
          },
          "metadata": {
            "tags": []
          },
          "execution_count": 5
        }
      ]
    },
    {
      "cell_type": "code",
      "metadata": {
        "id": "Lwsd7d5d5Lkh",
        "colab_type": "code",
        "colab": {
          "base_uri": "https://localhost:8080/",
          "height": 35
        },
        "outputId": "9736f150-d01f-4dc0-c54d-ff3f0d948153"
      },
      "source": [
        "# 2. \n",
        "char='xyz'\n",
        "yourlist=[i*num for num in range(1,5) for i in char ]\n",
        "yourlist"
      ],
      "execution_count": 6,
      "outputs": [
        {
          "output_type": "execute_result",
          "data": {
            "text/plain": [
              "['x', 'y', 'z', 'xx', 'yy', 'zz', 'xxx', 'yyy', 'zzz', 'xxxx', 'yyyy', 'zzzz']"
            ]
          },
          "metadata": {
            "tags": []
          },
          "execution_count": 6
        }
      ]
    },
    {
      "cell_type": "code",
      "metadata": {
        "id": "O97NT3Bh8qfF",
        "colab_type": "code",
        "colab": {
          "base_uri": "https://localhost:8080/",
          "height": 35
        },
        "outputId": "1283214f-768d-4183-a1a7-e2098ac9f2a8"
      },
      "source": [
        "# 3.\n",
        "ilist1=[2,3,4]\n",
        "nlist1=[[i+num]for i in ilist1 for num in range(0,3)]\n",
        "print(nlist1,end=\"\")\n"
      ],
      "execution_count": 7,
      "outputs": [
        {
          "output_type": "stream",
          "text": [
            "[[2], [3], [4], [3], [4], [5], [4], [5], [6]]"
          ],
          "name": "stdout"
        }
      ]
    },
    {
      "cell_type": "code",
      "metadata": {
        "id": "8CZLJb6uAe6-",
        "colab_type": "code",
        "colab": {
          "base_uri": "https://localhost:8080/",
          "height": 35
        },
        "outputId": "db2a824f-9036-40c9-acb2-0512c19b7f8b"
      },
      "source": [
        "# 4.\n",
        "ilist2=[2,3,4,5]\n",
        "nlist2=[[i+num] for i in ilist2 for num in range(0,4)]\n",
        "print(nlist2,end=\"\")"
      ],
      "execution_count": 8,
      "outputs": [
        {
          "output_type": "stream",
          "text": [
            "[[2], [3], [4], [5], [3], [4], [5], [6], [4], [5], [6], [7], [5], [6], [7], [8]]"
          ],
          "name": "stdout"
        }
      ]
    },
    {
      "cell_type": "code",
      "metadata": {
        "id": "x6-BFXVsCaXf",
        "colab_type": "code",
        "colab": {
          "base_uri": "https://localhost:8080/",
          "height": 35
        },
        "outputId": "0feefe3d-47ea-4f63-ea29-8c2ef627ac95"
      },
      "source": [
        "# 5.\n",
        "ilist3=[1,2,3]\n",
        "nlist3=[(b,a) for a in ilist3 for b in range(1,4)] \n",
        "print(nlist3,end=\"\")"
      ],
      "execution_count": 9,
      "outputs": [
        {
          "output_type": "stream",
          "text": [
            "[(1, 1), (2, 1), (3, 1), (1, 2), (2, 2), (3, 2), (1, 3), (2, 3), (3, 3)]"
          ],
          "name": "stdout"
        }
      ]
    },
    {
      "cell_type": "code",
      "metadata": {
        "id": "Nu5muUdoDBvd",
        "colab_type": "code",
        "colab": {}
      },
      "source": [
        ""
      ],
      "execution_count": 9,
      "outputs": []
    }
  ]
}