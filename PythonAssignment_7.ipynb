{
  "nbformat": 4,
  "nbformat_minor": 0,
  "metadata": {
    "colab": {
      "name": "PythonAssignment-7.ipynb",
      "provenance": [],
      "collapsed_sections": []
    },
    "kernelspec": {
      "name": "python3",
      "display_name": "Python 3"
    }
  },
  "cells": [
    {
      "cell_type": "markdown",
      "metadata": {
        "id": "TMQ6oQ4oiMrH",
        "colab_type": "text"
      },
      "source": [
        "# Numpy Assignment"
      ]
    },
    {
      "cell_type": "code",
      "metadata": {
        "id": "R3RMQ9fPe1AJ",
        "colab_type": "code",
        "colab": {}
      },
      "source": [
        "# 1)\n",
        "import numpy as np\n",
        "def power_matrix(l,N):\n",
        "   return np.vander(l,N)"
      ],
      "execution_count": 1,
      "outputs": []
    },
    {
      "cell_type": "code",
      "metadata": {
        "id": "GobbF6DbfDZp",
        "colab_type": "code",
        "colab": {
          "base_uri": "https://localhost:8080/",
          "height": 105
        },
        "outputId": "2e0fd560-0df8-4532-9053-c0edd36e543d"
      },
      "source": [
        "power_matrix([1,2,3,4,5],4)"
      ],
      "execution_count": 2,
      "outputs": [
        {
          "output_type": "execute_result",
          "data": {
            "text/plain": [
              "array([[  1,   1,   1,   1],\n",
              "       [  8,   4,   2,   1],\n",
              "       [ 27,   9,   3,   1],\n",
              "       [ 64,  16,   4,   1],\n",
              "       [125,  25,   5,   1]])"
            ]
          },
          "metadata": {
            "tags": []
          },
          "execution_count": 2
        }
      ]
    },
    {
      "cell_type": "code",
      "metadata": {
        "id": "zlhDZClYfXgm",
        "colab_type": "code",
        "colab": {}
      },
      "source": [
        "# 2)\n",
        "def moving_average(mylist, k):\n",
        "    cumsum, moving_aves = [0], []\n",
        "    for i, x in enumerate(mylist, 1):\n",
        "        cumsum.append(cumsum[i-1] + x)\n",
        "        if i>=k:\n",
        "            moving_ave = round(((cumsum[i] - cumsum[i-k])/k),2)\n",
        "            moving_aves.append(moving_ave)\n",
        "    print(\"Moving average values list: \", np.int64(moving_aves))\n",
        "    print(\"Length of the list n-k+1: \", len(moving_aves))\n"
      ],
      "execution_count": 3,
      "outputs": []
    },
    {
      "cell_type": "code",
      "metadata": {
        "id": "sncNB1DKhRHK",
        "colab_type": "code",
        "colab": {
          "base_uri": "https://localhost:8080/",
          "height": 52
        },
        "outputId": "9d87682a-8b0b-4408-ac41-a7e12d31c497"
      },
      "source": [
        "moving_average([10,20,30,40,50,60,70,80,90,100],4)"
      ],
      "execution_count": 4,
      "outputs": [
        {
          "output_type": "stream",
          "text": [
            "Moving average values list:  [25 35 45 55 65 75 85]\n",
            "Length of the list n-k+1:  7\n"
          ],
          "name": "stdout"
        }
      ]
    },
    {
      "cell_type": "code",
      "metadata": {
        "id": "N7MUdsBCheL4",
        "colab_type": "code",
        "colab": {}
      },
      "source": [
        ""
      ],
      "execution_count": 4,
      "outputs": []
    }
  ]
}